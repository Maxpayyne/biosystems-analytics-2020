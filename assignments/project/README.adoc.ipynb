{
 "cells": [
  {
   "cell_type": "markdown",
   "metadata": {},
   "source": [
    "# Maxwell Chibuogwu's 534 Project\n",
    "\n",
    "## Finding Open Reading Frames\n",
    "\n",
    "The name of the program is called 'orf_finder.py'. It will accept a text sequence (DNA or RNA) from the command line or a file with sequences. It will then look for potential Open Reading Frames and write them to a named output file in FastA format.\n",
    "\n",
    "The parameters to the program are:\n",
    "\n",
    "-m| --minlength: Minimum ORF length\n",
    "\n",
    "-o| --outfile: where to write the \n",
    "\n",
    "\n"
   ]
  },
  {
   "cell_type": "markdown",
   "metadata": {},
   "source": [
    "$ ./orf_finder.py -h\n",
    "usage: orf_finder.py [-h]"
   ]
  },
  {
   "cell_type": "code",
   "execution_count": null,
   "metadata": {},
   "outputs": [],
   "source": []
  }
 ],
 "metadata": {
  "kernelspec": {
   "display_name": "Python 3",
   "language": "python",
   "name": "python3"
  },
  "language_info": {
   "codemirror_mode": {
    "name": "ipython",
    "version": 3
   },
   "file_extension": ".py",
   "mimetype": "text/x-python",
   "name": "python",
   "nbconvert_exporter": "python",
   "pygments_lexer": "ipython3",
   "version": "3.6.9"
  }
 },
 "nbformat": 4,
 "nbformat_minor": 2
}
